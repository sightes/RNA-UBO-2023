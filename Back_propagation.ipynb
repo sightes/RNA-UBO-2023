{
  "nbformat": 4,
  "nbformat_minor": 0,
  "metadata": {
    "colab": {
      "provenance": [],
      "authorship_tag": "ABX9TyPC38sbhXz/CA6T68GlCrRt",
      "include_colab_link": true
    },
    "kernelspec": {
      "name": "python3",
      "display_name": "Python 3"
    },
    "language_info": {
      "name": "python"
    }
  },
  "cells": [
    {
      "cell_type": "markdown",
      "metadata": {
        "id": "view-in-github",
        "colab_type": "text"
      },
      "source": [
        "<a href=\"https://colab.research.google.com/github/sightes/RNA-UBO-2023/blob/main/Back_propagation.ipynb\" target=\"_parent\"><img src=\"https://colab.research.google.com/assets/colab-badge.svg\" alt=\"Open In Colab\"/></a>"
      ]
    },
    {
      "cell_type": "code",
      "execution_count": null,
      "metadata": {
        "id": "7HdmOnK1om1V"
      },
      "outputs": [],
      "source": [
        "#retropropagacion\n",
        "\n",
        "import numpy as np\n",
        "\n",
        "# Definir la función de activación sigmoidal\n",
        "def sigmoid(x):\n",
        "    return 1 / (1 + np.exp(-x))\n",
        "\n",
        "# Definir la derivada de la función de activación sigmoidal\n",
        "def sigmoid_derivative(x):\n",
        "    return sigmoid(x) * (1 - sigmoid(x))\n",
        "\n",
        "# Definir la función de pérdida (error cuadrático medio)\n",
        "def mse_loss(y_true, y_pred):\n",
        "    return np.mean((y_true - y_pred)**2)\n",
        "\n",
        "# Implementar el algoritmo de retropropagación\n",
        "def backpropagation(X, y, learning_rate, num_epochs):\n",
        "    # Inicializar los pesos y sesgos aleatoriamente\n",
        "    input_dim = X.shape[1]\n",
        "    hidden_dim = 4\n",
        "    output_dim = 1\n",
        "\n",
        "    np.random.seed(42)\n",
        "    W1 = np.random.randn(input_dim, hidden_dim)\n",
        "    b1 = np.zeros((1, hidden_dim))\n",
        "    W2 = np.random.randn(hidden_dim, output_dim)\n",
        "    b2 = np.zeros((1, output_dim))\n",
        "\n",
        "    # Iterar a través de las épocas\n",
        "    for epoch in range(num_epochs):\n",
        "        # Propagación hacia adelante\n",
        "        hidden_layer_input = np.dot(X, W1) + b1\n",
        "        hidden_layer_output = sigmoid(hidden_layer_input)\n",
        "        output_layer_input = np.dot(hidden_layer_output, W2) + b2\n",
        "        y_pred = sigmoid(output_layer_input)\n",
        "\n",
        "        # Retropropagación\n",
        "        error = y - y_pred\n",
        "        d_output = error * sigmoid_derivative(output_layer_input)\n",
        "        error_hidden = np.dot(d_output, W2.T)\n",
        "        d_hidden = error_hidden * sigmoid_derivative(hidden_layer_input)\n",
        "\n",
        "        # Actualizar pesos y sesgos\n",
        "        W2 += learning_rate * np.dot(hidden_layer_output.T, d_output)\n",
        "        b2 += learning_rate * np.sum(d_output, axis=0, keepdims=True)\n",
        "        W1 += learning_rate * np.dot(X.T, d_hidden)\n",
        "        b1 += learning_rate * np.sum(d_hidden, axis=0, keepdims=True)\n",
        "\n",
        "        # Imprimir el error en cada época\n",
        "        if (epoch + 1) % 1000 == 0:\n",
        "            print(\"Epoch:\", epoch+1, \" - Error:\", mse_loss(y, y_pred))\n",
        "\n",
        "    return W1, b1, W2, b2\n",
        "\n",
        "# Datos de entrenamiento\n",
        "X = np.array([[0, 0], [0, 1], [1, 0], [1, 1]])\n",
        "y = np.array([[0], [1], [1], [0]])\n",
        "\n",
        "# Hiperparámetros\n",
        "learning_rate = 0.1\n",
        "num_epochs = 10000\n",
        "\n",
        "# Entrenamiento con retropropagación\n",
        "W1, b1, W2, b2 = backpropagation(X, y, learning_rate, num_epochs)\n",
        "\n",
        "# Predicción\n",
        "hidden_layer_input = np.dot(X, W1) + b1\n",
        "hidden_layer_output = sigmoid(hidden_layer_input)\n",
        "output_layer_input = np.dot(hidden_layer_output, W2) + b2\n",
        "y_pred = sigmoid(output_layer_input)\n",
        "\n",
        "print(\"Predicciones:\", y_pred)"
      ]
    }
  ]
}