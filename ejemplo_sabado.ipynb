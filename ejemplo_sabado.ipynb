{
  "nbformat": 4,
  "nbformat_minor": 0,
  "metadata": {
    "colab": {
      "provenance": [],
      "gpuType": "T4",
      "authorship_tag": "ABX9TyOlvm3j+OGcK0Hm5ScqHWRJ",
      "include_colab_link": true
    },
    "kernelspec": {
      "name": "python3",
      "display_name": "Python 3"
    },
    "language_info": {
      "name": "python"
    },
    "accelerator": "GPU"
  },
  "cells": [
    {
      "cell_type": "markdown",
      "metadata": {
        "id": "view-in-github",
        "colab_type": "text"
      },
      "source": [
        "<a href=\"https://colab.research.google.com/github/sightes/RNA-UBO-2023/blob/main/ejemplo_sabado.ipynb\" target=\"_parent\"><img src=\"https://colab.research.google.com/assets/colab-badge.svg\" alt=\"Open In Colab\"/></a>"
      ]
    },
    {
      "cell_type": "code",
      "execution_count": 2,
      "metadata": {
        "id": "kBCbwG2n96DD"
      },
      "outputs": [],
      "source": [
        "url='https://raw.githubusercontent.com/sightes/RNA-UBO-2023/main/IBM_2006-01-01_to_2018-01-01.csv'"
      ]
    },
    {
      "cell_type": "code",
      "source": [
        "import pandas as pd\n",
        "from sklearn.preprocessing import MinMaxScaler\n",
        "import numpy as np"
      ],
      "metadata": {
        "id": "eWce6c_G-Kgl"
      },
      "execution_count": 18,
      "outputs": []
    },
    {
      "cell_type": "code",
      "source": [
        "dataset=pd.read_csv(url)\n",
        "dataset.head(5)\n",
        "training_set=dataset.iloc[:,1:2].values\n",
        "sc=MinMaxScaler(feature_range=(0,1))\n",
        "train_set_sc=sc.fit_transform(training_set)\n",
        "X_train=[]\n",
        "y_train=[]\n",
        "for i in range(60,1200):\n",
        "  X_train.append(train_set_sc[i-60:i,0])\n",
        "  y_train.append(train_set_sc[i,0])\n",
        "X_train,y_train=np.asarray(X_train),np.asarray(y_train)\n",
        "X_train=np.reshape(X_train,(X_train.shape[0],X_train.shape[1]))"
      ],
      "metadata": {
        "id": "3mkYxLTl-dzt"
      },
      "execution_count": 24,
      "outputs": []
    },
    {
      "cell_type": "code",
      "source": [
        "import matplotlib.pyplot as plt\n",
        "plt.plot(train_set_sc[:,0])"
      ],
      "metadata": {
        "id": "F6wohfX_AjO4"
      },
      "execution_count": null,
      "outputs": []
    },
    {
      "cell_type": "code",
      "source": [
        "from keras.models import Sequential\n",
        "from keras.layers import Dense, Dropout,LSTM\n",
        "regresor=Sequential()\n",
        "regresor.add(LSTM(units=50,return_sequences=True,input_shape=(X_train.shape[1],1)))\n",
        "regresor.add(Dropout(0.2))\n",
        "regresor.add(LSTM(units=50))\n",
        "regresor.add(Dropout(0.2))\n",
        "regresor.add(Dense(units=1))\n",
        "regresor.compile(optimizer='adam',loss='mean_squared_error')\n",
        "regresor.fit(X_train,y_train,epochs=50,batch_size=50)"
      ],
      "metadata": {
        "id": "diuRDkGJCjTY"
      },
      "execution_count": 29,
      "outputs": []
    },
    {
      "cell_type": "code",
      "source": [
        "X_train[0],y_train[0]"
      ],
      "metadata": {
        "id": "9lSKN048E5H4"
      },
      "execution_count": null,
      "outputs": []
    },
    {
      "cell_type": "code",
      "source": [
        "a=regresor.predict(X_train[1].reshape(1,-1))"
      ],
      "metadata": {
        "id": "7sfF5znfGi6k"
      },
      "execution_count": null,
      "outputs": []
    },
    {
      "cell_type": "code",
      "source": [
        "a.tolist()[0][0]"
      ],
      "metadata": {
        "id": "qV_j2rIxGo8k"
      },
      "execution_count": null,
      "outputs": []
    },
    {
      "cell_type": "code",
      "source": [
        "sc.inverse_transform(np.asarray([a.tolist()[0][0]]).reshape(-1,1))"
      ],
      "metadata": {
        "colab": {
          "base_uri": "https://localhost:8080/"
        },
        "id": "hFZtL8LdF0pU",
        "outputId": "771c5d8c-f676-42de-a7a0-6e50728ba822"
      },
      "execution_count": 53,
      "outputs": [
        {
          "output_type": "execute_result",
          "data": {
            "text/plain": [
              "array([[82.94180419]])"
            ]
          },
          "metadata": {},
          "execution_count": 53
        }
      ]
    }
  ]
}