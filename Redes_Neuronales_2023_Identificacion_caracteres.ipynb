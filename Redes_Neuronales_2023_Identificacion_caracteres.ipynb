{
  "nbformat": 4,
  "nbformat_minor": 0,
  "metadata": {
    "colab": {
      "provenance": [],
      "authorship_tag": "ABX9TyM9HFSRD5aDiuBZG1rfOY1X",
      "include_colab_link": true
    },
    "kernelspec": {
      "name": "python3",
      "display_name": "Python 3"
    },
    "language_info": {
      "name": "python"
    }
  },
  "cells": [
    {
      "cell_type": "markdown",
      "metadata": {
        "id": "view-in-github",
        "colab_type": "text"
      },
      "source": [
        "<a href=\"https://colab.research.google.com/github/sightes/RNA-UBO-2023/blob/main/Redes_Neuronales_2023_Identificacion_caracteres.ipynb\" target=\"_parent\"><img src=\"https://colab.research.google.com/assets/colab-badge.svg\" alt=\"Open In Colab\"/></a>"
      ]
    },
    {
      "cell_type": "code",
      "execution_count": 4,
      "metadata": {
        "id": "PPmKyD0iqSK9"
      },
      "outputs": [],
      "source": [
        "## librerias\n",
        "import keras\n",
        "import tensorflow as tf\n",
        "from keras.utils import load_img\n",
        "from keras.utils import img_to_array\n",
        "from keras.utils import array_to_img\n",
        "from keras.models import Sequential\n",
        "from keras.layers.convolutional import Conv2D,MaxPooling2D\n",
        "from keras.layers.core import Flatten,Dense\n",
        "import numpy as np\n",
        "from keras.datasets import mnist\n",
        "from keras.utils import np_utils"
      ]
    },
    {
      "cell_type": "code",
      "source": [
        "## preparacion datos\n",
        "(x_train,y_train),(x_test,y_test)=mnist.load_data()\n",
        "x_train=x_train /255\n",
        "x_test=x_test /255\n",
        "n_clases=10\n",
        "y_train=np_utils.to_categorical(y_train,n_clases)\n",
        "y_test=np_utils.to_categorical(y_test,n_clases)\n",
        "x_train=x_train.reshape(60000,28,28,1)\n",
        "x_test=x_test.reshape(10000,28,28,1)"
      ],
      "metadata": {
        "id": "Hntl3oJSqlM6"
      },
      "execution_count": 10,
      "outputs": []
    },
    {
      "cell_type": "code",
      "source": [
        "## RED: etapa 1\n",
        "input = keras.layers.Input(shape=(28,28,1), name='input')\n",
        "sigma = 1  # Parámetro de suavizado\n",
        "kernel= np.array([[-2, -1, 0],\n",
        "                  [-1, 1, 1],\n",
        "                  [0, 1, 2]])\n",
        "init=tf.constant_initializer(kernel)\n",
        "model = tf.keras.models.Sequential()\n",
        "conv = tf.keras.layers.Conv2D(1, kernel_size=(3, 3), input_shape=(28, 28, 1), padding='same', kernel_initializer=init, use_bias = False)(input)\n",
        "model = tf.keras.models.Model(inputs=[input], outputs=conv, name='Color_Filter')\n",
        "print(model.summary())\n",
        "keras.utils.plot_model(model, show_shapes=True)"
      ],
      "metadata": {
        "id": "903UHHW8qnLa"
      },
      "execution_count": null,
      "outputs": []
    },
    {
      "cell_type": "code",
      "source": [
        "import matplotlib.pyplot as plt\n",
        "conv_imgs =model.predict(x_test)\n",
        "n = 10\n",
        "plt.figure(figsize=(20, 4))\n",
        "for i in range(n):\n",
        "    ax = plt.subplot(2, n, i + 1)\n",
        "    plt.imshow(x_test[i].reshape(28, 28))\n",
        "    plt.gray()\n",
        "    ax.get_xaxis().set_visible(False)\n",
        "    ax.get_yaxis().set_visible(False)\n",
        "    ax = plt.subplot(2, n, i + 1 + n)\n",
        "    plt.imshow(conv_imgs[i].reshape(24, 24))\n",
        "    plt.gray()\n",
        "    ax.get_xaxis().set_visible(False)\n",
        "    ax.get_yaxis().set_visible(False)\n",
        "plt.show()"
      ],
      "metadata": {
        "id": "GVAz3OMcuqqy"
      },
      "execution_count": null,
      "outputs": []
    }
  ]
}